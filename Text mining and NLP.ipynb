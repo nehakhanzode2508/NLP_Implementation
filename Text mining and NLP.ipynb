{
 "cells": [
  {
   "cell_type": "code",
   "execution_count": 1,
   "metadata": {},
   "outputs": [],
   "source": [
    "import os\n",
    "import nltk\n",
    "import nltk.corpus"
   ]
  },
  {
   "cell_type": "markdown",
   "metadata": {},
   "source": [
    "# Tokenization"
   ]
  },
  {
   "cell_type": "code",
   "execution_count": 2,
   "metadata": {},
   "outputs": [],
   "source": [
    "Paragraph=\"Natural Language Processing or NLP is a field of artificial intelligence that gives the machines the ability to read, understand and derive meaning from human languages. It is a discipline that focuses on the interaction between data science and human language, and is scaling to countless industries.\""
   ]
  },
  {
   "cell_type": "code",
   "execution_count": 3,
   "metadata": {},
   "outputs": [
    {
     "data": {
      "text/plain": [
       "str"
      ]
     },
     "execution_count": 3,
     "metadata": {},
     "output_type": "execute_result"
    }
   ],
   "source": [
    "type(Paragraph)"
   ]
  },
  {
   "cell_type": "code",
   "execution_count": 4,
   "metadata": {},
   "outputs": [],
   "source": [
    "from nltk.tokenize import word_tokenize"
   ]
  },
  {
   "cell_type": "code",
   "execution_count": 5,
   "metadata": {},
   "outputs": [],
   "source": [
    "Paragraph_token=word_tokenize(Paragraph)"
   ]
  },
  {
   "cell_type": "code",
   "execution_count": 6,
   "metadata": {},
   "outputs": [
    {
     "data": {
      "text/plain": [
       "['Natural',\n",
       " 'Language',\n",
       " 'Processing',\n",
       " 'or',\n",
       " 'NLP',\n",
       " 'is',\n",
       " 'a',\n",
       " 'field',\n",
       " 'of',\n",
       " 'artificial',\n",
       " 'intelligence',\n",
       " 'that',\n",
       " 'gives',\n",
       " 'the',\n",
       " 'machines',\n",
       " 'the',\n",
       " 'ability',\n",
       " 'to',\n",
       " 'read',\n",
       " ',',\n",
       " 'understand',\n",
       " 'and',\n",
       " 'derive',\n",
       " 'meaning',\n",
       " 'from',\n",
       " 'human',\n",
       " 'languages',\n",
       " '.',\n",
       " 'It',\n",
       " 'is',\n",
       " 'a',\n",
       " 'discipline',\n",
       " 'that',\n",
       " 'focuses',\n",
       " 'on',\n",
       " 'the',\n",
       " 'interaction',\n",
       " 'between',\n",
       " 'data',\n",
       " 'science',\n",
       " 'and',\n",
       " 'human',\n",
       " 'language',\n",
       " ',',\n",
       " 'and',\n",
       " 'is',\n",
       " 'scaling',\n",
       " 'to',\n",
       " 'countless',\n",
       " 'industries',\n",
       " '.']"
      ]
     },
     "execution_count": 6,
     "metadata": {},
     "output_type": "execute_result"
    }
   ],
   "source": [
    "Paragraph_token"
   ]
  },
  {
   "cell_type": "code",
   "execution_count": 7,
   "metadata": {},
   "outputs": [
    {
     "data": {
      "text/plain": [
       "51"
      ]
     },
     "execution_count": 7,
     "metadata": {},
     "output_type": "execute_result"
    }
   ],
   "source": [
    "len(Paragraph_token)"
   ]
  },
  {
   "cell_type": "code",
   "execution_count": 8,
   "metadata": {},
   "outputs": [],
   "source": [
    "from nltk.probability import FreqDist"
   ]
  },
  {
   "cell_type": "code",
   "execution_count": 9,
   "metadata": {},
   "outputs": [],
   "source": [
    "fdist=FreqDist()"
   ]
  },
  {
   "cell_type": "code",
   "execution_count": 10,
   "metadata": {},
   "outputs": [
    {
     "data": {
      "text/plain": [
       "FreqDist({'is': 3, 'the': 3, 'and': 3, 'language': 2, 'a': 2, 'that': 2, 'to': 2, ',': 2, 'human': 2, '.': 2, ...})"
      ]
     },
     "execution_count": 10,
     "metadata": {},
     "output_type": "execute_result"
    }
   ],
   "source": [
    "for word in Paragraph_token:\n",
    "    fdist[word.lower()]+=1\n",
    "fdist    "
   ]
  },
  {
   "cell_type": "code",
   "execution_count": 11,
   "metadata": {},
   "outputs": [
    {
     "data": {
      "text/plain": [
       "[('is', 3),\n",
       " ('the', 3),\n",
       " ('and', 3),\n",
       " ('language', 2),\n",
       " ('a', 2),\n",
       " ('that', 2),\n",
       " ('to', 2),\n",
       " (',', 2),\n",
       " ('human', 2),\n",
       " ('.', 2)]"
      ]
     },
     "execution_count": 11,
     "metadata": {},
     "output_type": "execute_result"
    }
   ],
   "source": [
    "fdist.most_common(10)"
   ]
  },
  {
   "cell_type": "code",
   "execution_count": 12,
   "metadata": {},
   "outputs": [
    {
     "data": {
      "text/plain": [
       "[('is', 3), ('the', 3), ('and', 3), ('language', 2), ('a', 2)]"
      ]
     },
     "execution_count": 12,
     "metadata": {},
     "output_type": "execute_result"
    }
   ],
   "source": [
    "top5=fdist.most_common(5)\n",
    "top5"
   ]
  },
  {
   "cell_type": "code",
   "execution_count": 13,
   "metadata": {},
   "outputs": [
    {
     "data": {
      "text/plain": [
       "[('is', 3), ('the', 3)]"
      ]
     },
     "execution_count": 13,
     "metadata": {},
     "output_type": "execute_result"
    }
   ],
   "source": [
    "top2=fdist.most_common(2)\n",
    "top2"
   ]
  },
  {
   "cell_type": "code",
   "execution_count": 14,
   "metadata": {},
   "outputs": [
    {
     "data": {
      "text/plain": [
       "[('is', 3),\n",
       " ('the', 3),\n",
       " ('and', 3),\n",
       " ('language', 2),\n",
       " ('a', 2),\n",
       " ('that', 2),\n",
       " ('to', 2),\n",
       " (',', 2),\n",
       " ('human', 2),\n",
       " ('.', 2),\n",
       " ('natural', 1),\n",
       " ('processing', 1)]"
      ]
     },
     "execution_count": 14,
     "metadata": {},
     "output_type": "execute_result"
    }
   ],
   "source": [
    "top12=fdist.most_common(12)\n",
    "top12"
   ]
  },
  {
   "cell_type": "code",
   "execution_count": 15,
   "metadata": {},
   "outputs": [
    {
     "data": {
      "text/plain": [
       "[('is', 3),\n",
       " ('the', 3),\n",
       " ('and', 3),\n",
       " ('language', 2),\n",
       " ('a', 2),\n",
       " ('that', 2),\n",
       " ('to', 2),\n",
       " (',', 2),\n",
       " ('human', 2),\n",
       " ('.', 2),\n",
       " ('natural', 1),\n",
       " ('processing', 1),\n",
       " ('or', 1),\n",
       " ('nlp', 1),\n",
       " ('field', 1)]"
      ]
     },
     "execution_count": 15,
     "metadata": {},
     "output_type": "execute_result"
    }
   ],
   "source": [
    "fdist.most_common(15)"
   ]
  },
  {
   "cell_type": "code",
   "execution_count": 16,
   "metadata": {},
   "outputs": [
    {
     "data": {
      "text/plain": [
       "['Natural Language Processing or NLP is a field of artificial intelligence that gives the machines the ability to read, understand and derive meaning from human languages. It is a discipline that focuses on the interaction between data science and human language, and is scaling to countless industries.']"
      ]
     },
     "execution_count": 16,
     "metadata": {},
     "output_type": "execute_result"
    }
   ],
   "source": [
    "from nltk.tokenize import blankline_tokenize\n",
    "Para_blank= blankline_tokenize(Paragraph)\n",
    "Para_blank"
   ]
  },
  {
   "cell_type": "code",
   "execution_count": 17,
   "metadata": {},
   "outputs": [
    {
     "data": {
      "text/plain": [
       "1"
      ]
     },
     "execution_count": 17,
     "metadata": {},
     "output_type": "execute_result"
    }
   ],
   "source": [
    "len(Para_blank)\n",
    "#Now this 1 indicates how many paragraphs we have and what are seperated by new line\n"
   ]
  },
  {
   "cell_type": "markdown",
   "metadata": {},
   "source": [
    "# Bigrams=token of two consecative written words\n",
    "# Tigrams =token of 3 consecative written words\n",
    "# Ngram=token of any consetive written words"
   ]
  },
  {
   "cell_type": "code",
   "execution_count": 18,
   "metadata": {},
   "outputs": [],
   "source": [
    "from nltk.util import bigrams,trigrams,ngrams"
   ]
  },
  {
   "cell_type": "code",
   "execution_count": 19,
   "metadata": {},
   "outputs": [],
   "source": [
    "string=\"Computers and machines are great at working with tabular data or spreadsheets. However, as human beings generally communicate in words and sentences, not in the form of tables. Much information that humans speak or write is unstructured. So it is not very clear for computers to interpret such. In natural language processing (NLP), the goal is to make computers understand the unstructured text and retrieve meaningful pieces of information from it. Natural language Processing (NLP) is a subfield of artificial intelligence, in which its depth involves the interactions between computers and humans.\""
   ]
  },
  {
   "cell_type": "code",
   "execution_count": 20,
   "metadata": {},
   "outputs": [],
   "source": [
    "S_tokens=nltk.word_tokenize(string)"
   ]
  },
  {
   "cell_type": "code",
   "execution_count": 21,
   "metadata": {},
   "outputs": [
    {
     "data": {
      "text/plain": [
       "['Computers',\n",
       " 'and',\n",
       " 'machines',\n",
       " 'are',\n",
       " 'great',\n",
       " 'at',\n",
       " 'working',\n",
       " 'with',\n",
       " 'tabular',\n",
       " 'data',\n",
       " 'or',\n",
       " 'spreadsheets',\n",
       " '.',\n",
       " 'However',\n",
       " ',',\n",
       " 'as',\n",
       " 'human',\n",
       " 'beings',\n",
       " 'generally',\n",
       " 'communicate',\n",
       " 'in',\n",
       " 'words',\n",
       " 'and',\n",
       " 'sentences',\n",
       " ',',\n",
       " 'not',\n",
       " 'in',\n",
       " 'the',\n",
       " 'form',\n",
       " 'of',\n",
       " 'tables',\n",
       " '.',\n",
       " 'Much',\n",
       " 'information',\n",
       " 'that',\n",
       " 'humans',\n",
       " 'speak',\n",
       " 'or',\n",
       " 'write',\n",
       " 'is',\n",
       " 'unstructured',\n",
       " '.',\n",
       " 'So',\n",
       " 'it',\n",
       " 'is',\n",
       " 'not',\n",
       " 'very',\n",
       " 'clear',\n",
       " 'for',\n",
       " 'computers',\n",
       " 'to',\n",
       " 'interpret',\n",
       " 'such',\n",
       " '.',\n",
       " 'In',\n",
       " 'natural',\n",
       " 'language',\n",
       " 'processing',\n",
       " '(',\n",
       " 'NLP',\n",
       " ')',\n",
       " ',',\n",
       " 'the',\n",
       " 'goal',\n",
       " 'is',\n",
       " 'to',\n",
       " 'make',\n",
       " 'computers',\n",
       " 'understand',\n",
       " 'the',\n",
       " 'unstructured',\n",
       " 'text',\n",
       " 'and',\n",
       " 'retrieve',\n",
       " 'meaningful',\n",
       " 'pieces',\n",
       " 'of',\n",
       " 'information',\n",
       " 'from',\n",
       " 'it',\n",
       " '.',\n",
       " 'Natural',\n",
       " 'language',\n",
       " 'Processing',\n",
       " '(',\n",
       " 'NLP',\n",
       " ')',\n",
       " 'is',\n",
       " 'a',\n",
       " 'subfield',\n",
       " 'of',\n",
       " 'artificial',\n",
       " 'intelligence',\n",
       " ',',\n",
       " 'in',\n",
       " 'which',\n",
       " 'its',\n",
       " 'depth',\n",
       " 'involves',\n",
       " 'the',\n",
       " 'interactions',\n",
       " 'between',\n",
       " 'computers',\n",
       " 'and',\n",
       " 'humans',\n",
       " '.']"
      ]
     },
     "execution_count": 21,
     "metadata": {},
     "output_type": "execute_result"
    }
   ],
   "source": [
    "S_tokens"
   ]
  },
  {
   "cell_type": "code",
   "execution_count": 22,
   "metadata": {},
   "outputs": [],
   "source": [
    "S_bigrams=list(nltk.bigrams(S_tokens))"
   ]
  },
  {
   "cell_type": "code",
   "execution_count": 23,
   "metadata": {},
   "outputs": [
    {
     "data": {
      "text/plain": [
       "[('Computers', 'and'),\n",
       " ('and', 'machines'),\n",
       " ('machines', 'are'),\n",
       " ('are', 'great'),\n",
       " ('great', 'at'),\n",
       " ('at', 'working'),\n",
       " ('working', 'with'),\n",
       " ('with', 'tabular'),\n",
       " ('tabular', 'data'),\n",
       " ('data', 'or'),\n",
       " ('or', 'spreadsheets'),\n",
       " ('spreadsheets', '.'),\n",
       " ('.', 'However'),\n",
       " ('However', ','),\n",
       " (',', 'as'),\n",
       " ('as', 'human'),\n",
       " ('human', 'beings'),\n",
       " ('beings', 'generally'),\n",
       " ('generally', 'communicate'),\n",
       " ('communicate', 'in'),\n",
       " ('in', 'words'),\n",
       " ('words', 'and'),\n",
       " ('and', 'sentences'),\n",
       " ('sentences', ','),\n",
       " (',', 'not'),\n",
       " ('not', 'in'),\n",
       " ('in', 'the'),\n",
       " ('the', 'form'),\n",
       " ('form', 'of'),\n",
       " ('of', 'tables'),\n",
       " ('tables', '.'),\n",
       " ('.', 'Much'),\n",
       " ('Much', 'information'),\n",
       " ('information', 'that'),\n",
       " ('that', 'humans'),\n",
       " ('humans', 'speak'),\n",
       " ('speak', 'or'),\n",
       " ('or', 'write'),\n",
       " ('write', 'is'),\n",
       " ('is', 'unstructured'),\n",
       " ('unstructured', '.'),\n",
       " ('.', 'So'),\n",
       " ('So', 'it'),\n",
       " ('it', 'is'),\n",
       " ('is', 'not'),\n",
       " ('not', 'very'),\n",
       " ('very', 'clear'),\n",
       " ('clear', 'for'),\n",
       " ('for', 'computers'),\n",
       " ('computers', 'to'),\n",
       " ('to', 'interpret'),\n",
       " ('interpret', 'such'),\n",
       " ('such', '.'),\n",
       " ('.', 'In'),\n",
       " ('In', 'natural'),\n",
       " ('natural', 'language'),\n",
       " ('language', 'processing'),\n",
       " ('processing', '('),\n",
       " ('(', 'NLP'),\n",
       " ('NLP', ')'),\n",
       " (')', ','),\n",
       " (',', 'the'),\n",
       " ('the', 'goal'),\n",
       " ('goal', 'is'),\n",
       " ('is', 'to'),\n",
       " ('to', 'make'),\n",
       " ('make', 'computers'),\n",
       " ('computers', 'understand'),\n",
       " ('understand', 'the'),\n",
       " ('the', 'unstructured'),\n",
       " ('unstructured', 'text'),\n",
       " ('text', 'and'),\n",
       " ('and', 'retrieve'),\n",
       " ('retrieve', 'meaningful'),\n",
       " ('meaningful', 'pieces'),\n",
       " ('pieces', 'of'),\n",
       " ('of', 'information'),\n",
       " ('information', 'from'),\n",
       " ('from', 'it'),\n",
       " ('it', '.'),\n",
       " ('.', 'Natural'),\n",
       " ('Natural', 'language'),\n",
       " ('language', 'Processing'),\n",
       " ('Processing', '('),\n",
       " ('(', 'NLP'),\n",
       " ('NLP', ')'),\n",
       " (')', 'is'),\n",
       " ('is', 'a'),\n",
       " ('a', 'subfield'),\n",
       " ('subfield', 'of'),\n",
       " ('of', 'artificial'),\n",
       " ('artificial', 'intelligence'),\n",
       " ('intelligence', ','),\n",
       " (',', 'in'),\n",
       " ('in', 'which'),\n",
       " ('which', 'its'),\n",
       " ('its', 'depth'),\n",
       " ('depth', 'involves'),\n",
       " ('involves', 'the'),\n",
       " ('the', 'interactions'),\n",
       " ('interactions', 'between'),\n",
       " ('between', 'computers'),\n",
       " ('computers', 'and'),\n",
       " ('and', 'humans'),\n",
       " ('humans', '.')]"
      ]
     },
     "execution_count": 23,
     "metadata": {},
     "output_type": "execute_result"
    }
   ],
   "source": [
    "S_bigrams"
   ]
  },
  {
   "cell_type": "code",
   "execution_count": 24,
   "metadata": {},
   "outputs": [],
   "source": [
    "S_Trigrams=list(nltk.trigrams(S_tokens))"
   ]
  },
  {
   "cell_type": "code",
   "execution_count": 25,
   "metadata": {},
   "outputs": [
    {
     "data": {
      "text/plain": [
       "[('Computers', 'and', 'machines'),\n",
       " ('and', 'machines', 'are'),\n",
       " ('machines', 'are', 'great'),\n",
       " ('are', 'great', 'at'),\n",
       " ('great', 'at', 'working'),\n",
       " ('at', 'working', 'with'),\n",
       " ('working', 'with', 'tabular'),\n",
       " ('with', 'tabular', 'data'),\n",
       " ('tabular', 'data', 'or'),\n",
       " ('data', 'or', 'spreadsheets'),\n",
       " ('or', 'spreadsheets', '.'),\n",
       " ('spreadsheets', '.', 'However'),\n",
       " ('.', 'However', ','),\n",
       " ('However', ',', 'as'),\n",
       " (',', 'as', 'human'),\n",
       " ('as', 'human', 'beings'),\n",
       " ('human', 'beings', 'generally'),\n",
       " ('beings', 'generally', 'communicate'),\n",
       " ('generally', 'communicate', 'in'),\n",
       " ('communicate', 'in', 'words'),\n",
       " ('in', 'words', 'and'),\n",
       " ('words', 'and', 'sentences'),\n",
       " ('and', 'sentences', ','),\n",
       " ('sentences', ',', 'not'),\n",
       " (',', 'not', 'in'),\n",
       " ('not', 'in', 'the'),\n",
       " ('in', 'the', 'form'),\n",
       " ('the', 'form', 'of'),\n",
       " ('form', 'of', 'tables'),\n",
       " ('of', 'tables', '.'),\n",
       " ('tables', '.', 'Much'),\n",
       " ('.', 'Much', 'information'),\n",
       " ('Much', 'information', 'that'),\n",
       " ('information', 'that', 'humans'),\n",
       " ('that', 'humans', 'speak'),\n",
       " ('humans', 'speak', 'or'),\n",
       " ('speak', 'or', 'write'),\n",
       " ('or', 'write', 'is'),\n",
       " ('write', 'is', 'unstructured'),\n",
       " ('is', 'unstructured', '.'),\n",
       " ('unstructured', '.', 'So'),\n",
       " ('.', 'So', 'it'),\n",
       " ('So', 'it', 'is'),\n",
       " ('it', 'is', 'not'),\n",
       " ('is', 'not', 'very'),\n",
       " ('not', 'very', 'clear'),\n",
       " ('very', 'clear', 'for'),\n",
       " ('clear', 'for', 'computers'),\n",
       " ('for', 'computers', 'to'),\n",
       " ('computers', 'to', 'interpret'),\n",
       " ('to', 'interpret', 'such'),\n",
       " ('interpret', 'such', '.'),\n",
       " ('such', '.', 'In'),\n",
       " ('.', 'In', 'natural'),\n",
       " ('In', 'natural', 'language'),\n",
       " ('natural', 'language', 'processing'),\n",
       " ('language', 'processing', '('),\n",
       " ('processing', '(', 'NLP'),\n",
       " ('(', 'NLP', ')'),\n",
       " ('NLP', ')', ','),\n",
       " (')', ',', 'the'),\n",
       " (',', 'the', 'goal'),\n",
       " ('the', 'goal', 'is'),\n",
       " ('goal', 'is', 'to'),\n",
       " ('is', 'to', 'make'),\n",
       " ('to', 'make', 'computers'),\n",
       " ('make', 'computers', 'understand'),\n",
       " ('computers', 'understand', 'the'),\n",
       " ('understand', 'the', 'unstructured'),\n",
       " ('the', 'unstructured', 'text'),\n",
       " ('unstructured', 'text', 'and'),\n",
       " ('text', 'and', 'retrieve'),\n",
       " ('and', 'retrieve', 'meaningful'),\n",
       " ('retrieve', 'meaningful', 'pieces'),\n",
       " ('meaningful', 'pieces', 'of'),\n",
       " ('pieces', 'of', 'information'),\n",
       " ('of', 'information', 'from'),\n",
       " ('information', 'from', 'it'),\n",
       " ('from', 'it', '.'),\n",
       " ('it', '.', 'Natural'),\n",
       " ('.', 'Natural', 'language'),\n",
       " ('Natural', 'language', 'Processing'),\n",
       " ('language', 'Processing', '('),\n",
       " ('Processing', '(', 'NLP'),\n",
       " ('(', 'NLP', ')'),\n",
       " ('NLP', ')', 'is'),\n",
       " (')', 'is', 'a'),\n",
       " ('is', 'a', 'subfield'),\n",
       " ('a', 'subfield', 'of'),\n",
       " ('subfield', 'of', 'artificial'),\n",
       " ('of', 'artificial', 'intelligence'),\n",
       " ('artificial', 'intelligence', ','),\n",
       " ('intelligence', ',', 'in'),\n",
       " (',', 'in', 'which'),\n",
       " ('in', 'which', 'its'),\n",
       " ('which', 'its', 'depth'),\n",
       " ('its', 'depth', 'involves'),\n",
       " ('depth', 'involves', 'the'),\n",
       " ('involves', 'the', 'interactions'),\n",
       " ('the', 'interactions', 'between'),\n",
       " ('interactions', 'between', 'computers'),\n",
       " ('between', 'computers', 'and'),\n",
       " ('computers', 'and', 'humans'),\n",
       " ('and', 'humans', '.')]"
      ]
     },
     "execution_count": 25,
     "metadata": {},
     "output_type": "execute_result"
    }
   ],
   "source": [
    "S_Trigrams"
   ]
  },
  {
   "cell_type": "code",
   "execution_count": 26,
   "metadata": {},
   "outputs": [],
   "source": [
    "S_ngrams=list(nltk.ngrams(S_tokens,4))"
   ]
  },
  {
   "cell_type": "code",
   "execution_count": 27,
   "metadata": {},
   "outputs": [
    {
     "data": {
      "text/plain": [
       "[('Computers', 'and', 'machines', 'are'),\n",
       " ('and', 'machines', 'are', 'great'),\n",
       " ('machines', 'are', 'great', 'at'),\n",
       " ('are', 'great', 'at', 'working'),\n",
       " ('great', 'at', 'working', 'with'),\n",
       " ('at', 'working', 'with', 'tabular'),\n",
       " ('working', 'with', 'tabular', 'data'),\n",
       " ('with', 'tabular', 'data', 'or'),\n",
       " ('tabular', 'data', 'or', 'spreadsheets'),\n",
       " ('data', 'or', 'spreadsheets', '.'),\n",
       " ('or', 'spreadsheets', '.', 'However'),\n",
       " ('spreadsheets', '.', 'However', ','),\n",
       " ('.', 'However', ',', 'as'),\n",
       " ('However', ',', 'as', 'human'),\n",
       " (',', 'as', 'human', 'beings'),\n",
       " ('as', 'human', 'beings', 'generally'),\n",
       " ('human', 'beings', 'generally', 'communicate'),\n",
       " ('beings', 'generally', 'communicate', 'in'),\n",
       " ('generally', 'communicate', 'in', 'words'),\n",
       " ('communicate', 'in', 'words', 'and'),\n",
       " ('in', 'words', 'and', 'sentences'),\n",
       " ('words', 'and', 'sentences', ','),\n",
       " ('and', 'sentences', ',', 'not'),\n",
       " ('sentences', ',', 'not', 'in'),\n",
       " (',', 'not', 'in', 'the'),\n",
       " ('not', 'in', 'the', 'form'),\n",
       " ('in', 'the', 'form', 'of'),\n",
       " ('the', 'form', 'of', 'tables'),\n",
       " ('form', 'of', 'tables', '.'),\n",
       " ('of', 'tables', '.', 'Much'),\n",
       " ('tables', '.', 'Much', 'information'),\n",
       " ('.', 'Much', 'information', 'that'),\n",
       " ('Much', 'information', 'that', 'humans'),\n",
       " ('information', 'that', 'humans', 'speak'),\n",
       " ('that', 'humans', 'speak', 'or'),\n",
       " ('humans', 'speak', 'or', 'write'),\n",
       " ('speak', 'or', 'write', 'is'),\n",
       " ('or', 'write', 'is', 'unstructured'),\n",
       " ('write', 'is', 'unstructured', '.'),\n",
       " ('is', 'unstructured', '.', 'So'),\n",
       " ('unstructured', '.', 'So', 'it'),\n",
       " ('.', 'So', 'it', 'is'),\n",
       " ('So', 'it', 'is', 'not'),\n",
       " ('it', 'is', 'not', 'very'),\n",
       " ('is', 'not', 'very', 'clear'),\n",
       " ('not', 'very', 'clear', 'for'),\n",
       " ('very', 'clear', 'for', 'computers'),\n",
       " ('clear', 'for', 'computers', 'to'),\n",
       " ('for', 'computers', 'to', 'interpret'),\n",
       " ('computers', 'to', 'interpret', 'such'),\n",
       " ('to', 'interpret', 'such', '.'),\n",
       " ('interpret', 'such', '.', 'In'),\n",
       " ('such', '.', 'In', 'natural'),\n",
       " ('.', 'In', 'natural', 'language'),\n",
       " ('In', 'natural', 'language', 'processing'),\n",
       " ('natural', 'language', 'processing', '('),\n",
       " ('language', 'processing', '(', 'NLP'),\n",
       " ('processing', '(', 'NLP', ')'),\n",
       " ('(', 'NLP', ')', ','),\n",
       " ('NLP', ')', ',', 'the'),\n",
       " (')', ',', 'the', 'goal'),\n",
       " (',', 'the', 'goal', 'is'),\n",
       " ('the', 'goal', 'is', 'to'),\n",
       " ('goal', 'is', 'to', 'make'),\n",
       " ('is', 'to', 'make', 'computers'),\n",
       " ('to', 'make', 'computers', 'understand'),\n",
       " ('make', 'computers', 'understand', 'the'),\n",
       " ('computers', 'understand', 'the', 'unstructured'),\n",
       " ('understand', 'the', 'unstructured', 'text'),\n",
       " ('the', 'unstructured', 'text', 'and'),\n",
       " ('unstructured', 'text', 'and', 'retrieve'),\n",
       " ('text', 'and', 'retrieve', 'meaningful'),\n",
       " ('and', 'retrieve', 'meaningful', 'pieces'),\n",
       " ('retrieve', 'meaningful', 'pieces', 'of'),\n",
       " ('meaningful', 'pieces', 'of', 'information'),\n",
       " ('pieces', 'of', 'information', 'from'),\n",
       " ('of', 'information', 'from', 'it'),\n",
       " ('information', 'from', 'it', '.'),\n",
       " ('from', 'it', '.', 'Natural'),\n",
       " ('it', '.', 'Natural', 'language'),\n",
       " ('.', 'Natural', 'language', 'Processing'),\n",
       " ('Natural', 'language', 'Processing', '('),\n",
       " ('language', 'Processing', '(', 'NLP'),\n",
       " ('Processing', '(', 'NLP', ')'),\n",
       " ('(', 'NLP', ')', 'is'),\n",
       " ('NLP', ')', 'is', 'a'),\n",
       " (')', 'is', 'a', 'subfield'),\n",
       " ('is', 'a', 'subfield', 'of'),\n",
       " ('a', 'subfield', 'of', 'artificial'),\n",
       " ('subfield', 'of', 'artificial', 'intelligence'),\n",
       " ('of', 'artificial', 'intelligence', ','),\n",
       " ('artificial', 'intelligence', ',', 'in'),\n",
       " ('intelligence', ',', 'in', 'which'),\n",
       " (',', 'in', 'which', 'its'),\n",
       " ('in', 'which', 'its', 'depth'),\n",
       " ('which', 'its', 'depth', 'involves'),\n",
       " ('its', 'depth', 'involves', 'the'),\n",
       " ('depth', 'involves', 'the', 'interactions'),\n",
       " ('involves', 'the', 'interactions', 'between'),\n",
       " ('the', 'interactions', 'between', 'computers'),\n",
       " ('interactions', 'between', 'computers', 'and'),\n",
       " ('between', 'computers', 'and', 'humans'),\n",
       " ('computers', 'and', 'humans', '.')]"
      ]
     },
     "execution_count": 27,
     "metadata": {},
     "output_type": "execute_result"
    }
   ],
   "source": [
    "S_ngrams"
   ]
  },
  {
   "cell_type": "code",
   "execution_count": 28,
   "metadata": {},
   "outputs": [
    {
     "data": {
      "text/plain": [
       "[('Computers', 'and', 'machines', 'are', 'great'),\n",
       " ('and', 'machines', 'are', 'great', 'at'),\n",
       " ('machines', 'are', 'great', 'at', 'working'),\n",
       " ('are', 'great', 'at', 'working', 'with'),\n",
       " ('great', 'at', 'working', 'with', 'tabular'),\n",
       " ('at', 'working', 'with', 'tabular', 'data'),\n",
       " ('working', 'with', 'tabular', 'data', 'or'),\n",
       " ('with', 'tabular', 'data', 'or', 'spreadsheets'),\n",
       " ('tabular', 'data', 'or', 'spreadsheets', '.'),\n",
       " ('data', 'or', 'spreadsheets', '.', 'However'),\n",
       " ('or', 'spreadsheets', '.', 'However', ','),\n",
       " ('spreadsheets', '.', 'However', ',', 'as'),\n",
       " ('.', 'However', ',', 'as', 'human'),\n",
       " ('However', ',', 'as', 'human', 'beings'),\n",
       " (',', 'as', 'human', 'beings', 'generally'),\n",
       " ('as', 'human', 'beings', 'generally', 'communicate'),\n",
       " ('human', 'beings', 'generally', 'communicate', 'in'),\n",
       " ('beings', 'generally', 'communicate', 'in', 'words'),\n",
       " ('generally', 'communicate', 'in', 'words', 'and'),\n",
       " ('communicate', 'in', 'words', 'and', 'sentences'),\n",
       " ('in', 'words', 'and', 'sentences', ','),\n",
       " ('words', 'and', 'sentences', ',', 'not'),\n",
       " ('and', 'sentences', ',', 'not', 'in'),\n",
       " ('sentences', ',', 'not', 'in', 'the'),\n",
       " (',', 'not', 'in', 'the', 'form'),\n",
       " ('not', 'in', 'the', 'form', 'of'),\n",
       " ('in', 'the', 'form', 'of', 'tables'),\n",
       " ('the', 'form', 'of', 'tables', '.'),\n",
       " ('form', 'of', 'tables', '.', 'Much'),\n",
       " ('of', 'tables', '.', 'Much', 'information'),\n",
       " ('tables', '.', 'Much', 'information', 'that'),\n",
       " ('.', 'Much', 'information', 'that', 'humans'),\n",
       " ('Much', 'information', 'that', 'humans', 'speak'),\n",
       " ('information', 'that', 'humans', 'speak', 'or'),\n",
       " ('that', 'humans', 'speak', 'or', 'write'),\n",
       " ('humans', 'speak', 'or', 'write', 'is'),\n",
       " ('speak', 'or', 'write', 'is', 'unstructured'),\n",
       " ('or', 'write', 'is', 'unstructured', '.'),\n",
       " ('write', 'is', 'unstructured', '.', 'So'),\n",
       " ('is', 'unstructured', '.', 'So', 'it'),\n",
       " ('unstructured', '.', 'So', 'it', 'is'),\n",
       " ('.', 'So', 'it', 'is', 'not'),\n",
       " ('So', 'it', 'is', 'not', 'very'),\n",
       " ('it', 'is', 'not', 'very', 'clear'),\n",
       " ('is', 'not', 'very', 'clear', 'for'),\n",
       " ('not', 'very', 'clear', 'for', 'computers'),\n",
       " ('very', 'clear', 'for', 'computers', 'to'),\n",
       " ('clear', 'for', 'computers', 'to', 'interpret'),\n",
       " ('for', 'computers', 'to', 'interpret', 'such'),\n",
       " ('computers', 'to', 'interpret', 'such', '.'),\n",
       " ('to', 'interpret', 'such', '.', 'In'),\n",
       " ('interpret', 'such', '.', 'In', 'natural'),\n",
       " ('such', '.', 'In', 'natural', 'language'),\n",
       " ('.', 'In', 'natural', 'language', 'processing'),\n",
       " ('In', 'natural', 'language', 'processing', '('),\n",
       " ('natural', 'language', 'processing', '(', 'NLP'),\n",
       " ('language', 'processing', '(', 'NLP', ')'),\n",
       " ('processing', '(', 'NLP', ')', ','),\n",
       " ('(', 'NLP', ')', ',', 'the'),\n",
       " ('NLP', ')', ',', 'the', 'goal'),\n",
       " (')', ',', 'the', 'goal', 'is'),\n",
       " (',', 'the', 'goal', 'is', 'to'),\n",
       " ('the', 'goal', 'is', 'to', 'make'),\n",
       " ('goal', 'is', 'to', 'make', 'computers'),\n",
       " ('is', 'to', 'make', 'computers', 'understand'),\n",
       " ('to', 'make', 'computers', 'understand', 'the'),\n",
       " ('make', 'computers', 'understand', 'the', 'unstructured'),\n",
       " ('computers', 'understand', 'the', 'unstructured', 'text'),\n",
       " ('understand', 'the', 'unstructured', 'text', 'and'),\n",
       " ('the', 'unstructured', 'text', 'and', 'retrieve'),\n",
       " ('unstructured', 'text', 'and', 'retrieve', 'meaningful'),\n",
       " ('text', 'and', 'retrieve', 'meaningful', 'pieces'),\n",
       " ('and', 'retrieve', 'meaningful', 'pieces', 'of'),\n",
       " ('retrieve', 'meaningful', 'pieces', 'of', 'information'),\n",
       " ('meaningful', 'pieces', 'of', 'information', 'from'),\n",
       " ('pieces', 'of', 'information', 'from', 'it'),\n",
       " ('of', 'information', 'from', 'it', '.'),\n",
       " ('information', 'from', 'it', '.', 'Natural'),\n",
       " ('from', 'it', '.', 'Natural', 'language'),\n",
       " ('it', '.', 'Natural', 'language', 'Processing'),\n",
       " ('.', 'Natural', 'language', 'Processing', '('),\n",
       " ('Natural', 'language', 'Processing', '(', 'NLP'),\n",
       " ('language', 'Processing', '(', 'NLP', ')'),\n",
       " ('Processing', '(', 'NLP', ')', 'is'),\n",
       " ('(', 'NLP', ')', 'is', 'a'),\n",
       " ('NLP', ')', 'is', 'a', 'subfield'),\n",
       " (')', 'is', 'a', 'subfield', 'of'),\n",
       " ('is', 'a', 'subfield', 'of', 'artificial'),\n",
       " ('a', 'subfield', 'of', 'artificial', 'intelligence'),\n",
       " ('subfield', 'of', 'artificial', 'intelligence', ','),\n",
       " ('of', 'artificial', 'intelligence', ',', 'in'),\n",
       " ('artificial', 'intelligence', ',', 'in', 'which'),\n",
       " ('intelligence', ',', 'in', 'which', 'its'),\n",
       " (',', 'in', 'which', 'its', 'depth'),\n",
       " ('in', 'which', 'its', 'depth', 'involves'),\n",
       " ('which', 'its', 'depth', 'involves', 'the'),\n",
       " ('its', 'depth', 'involves', 'the', 'interactions'),\n",
       " ('depth', 'involves', 'the', 'interactions', 'between'),\n",
       " ('involves', 'the', 'interactions', 'between', 'computers'),\n",
       " ('the', 'interactions', 'between', 'computers', 'and'),\n",
       " ('interactions', 'between', 'computers', 'and', 'humans'),\n",
       " ('between', 'computers', 'and', 'humans', '.')]"
      ]
     },
     "execution_count": 28,
     "metadata": {},
     "output_type": "execute_result"
    }
   ],
   "source": [
    "S_ngrams5=list(nltk.ngrams(S_tokens,5))\n",
    "S_ngrams5"
   ]
  },
  {
   "cell_type": "code",
   "execution_count": 29,
   "metadata": {},
   "outputs": [
    {
     "data": {
      "text/plain": [
       "[('Computers', 'and', 'machines', 'are', 'great', 'at'),\n",
       " ('and', 'machines', 'are', 'great', 'at', 'working'),\n",
       " ('machines', 'are', 'great', 'at', 'working', 'with'),\n",
       " ('are', 'great', 'at', 'working', 'with', 'tabular'),\n",
       " ('great', 'at', 'working', 'with', 'tabular', 'data'),\n",
       " ('at', 'working', 'with', 'tabular', 'data', 'or'),\n",
       " ('working', 'with', 'tabular', 'data', 'or', 'spreadsheets'),\n",
       " ('with', 'tabular', 'data', 'or', 'spreadsheets', '.'),\n",
       " ('tabular', 'data', 'or', 'spreadsheets', '.', 'However'),\n",
       " ('data', 'or', 'spreadsheets', '.', 'However', ','),\n",
       " ('or', 'spreadsheets', '.', 'However', ',', 'as'),\n",
       " ('spreadsheets', '.', 'However', ',', 'as', 'human'),\n",
       " ('.', 'However', ',', 'as', 'human', 'beings'),\n",
       " ('However', ',', 'as', 'human', 'beings', 'generally'),\n",
       " (',', 'as', 'human', 'beings', 'generally', 'communicate'),\n",
       " ('as', 'human', 'beings', 'generally', 'communicate', 'in'),\n",
       " ('human', 'beings', 'generally', 'communicate', 'in', 'words'),\n",
       " ('beings', 'generally', 'communicate', 'in', 'words', 'and'),\n",
       " ('generally', 'communicate', 'in', 'words', 'and', 'sentences'),\n",
       " ('communicate', 'in', 'words', 'and', 'sentences', ','),\n",
       " ('in', 'words', 'and', 'sentences', ',', 'not'),\n",
       " ('words', 'and', 'sentences', ',', 'not', 'in'),\n",
       " ('and', 'sentences', ',', 'not', 'in', 'the'),\n",
       " ('sentences', ',', 'not', 'in', 'the', 'form'),\n",
       " (',', 'not', 'in', 'the', 'form', 'of'),\n",
       " ('not', 'in', 'the', 'form', 'of', 'tables'),\n",
       " ('in', 'the', 'form', 'of', 'tables', '.'),\n",
       " ('the', 'form', 'of', 'tables', '.', 'Much'),\n",
       " ('form', 'of', 'tables', '.', 'Much', 'information'),\n",
       " ('of', 'tables', '.', 'Much', 'information', 'that'),\n",
       " ('tables', '.', 'Much', 'information', 'that', 'humans'),\n",
       " ('.', 'Much', 'information', 'that', 'humans', 'speak'),\n",
       " ('Much', 'information', 'that', 'humans', 'speak', 'or'),\n",
       " ('information', 'that', 'humans', 'speak', 'or', 'write'),\n",
       " ('that', 'humans', 'speak', 'or', 'write', 'is'),\n",
       " ('humans', 'speak', 'or', 'write', 'is', 'unstructured'),\n",
       " ('speak', 'or', 'write', 'is', 'unstructured', '.'),\n",
       " ('or', 'write', 'is', 'unstructured', '.', 'So'),\n",
       " ('write', 'is', 'unstructured', '.', 'So', 'it'),\n",
       " ('is', 'unstructured', '.', 'So', 'it', 'is'),\n",
       " ('unstructured', '.', 'So', 'it', 'is', 'not'),\n",
       " ('.', 'So', 'it', 'is', 'not', 'very'),\n",
       " ('So', 'it', 'is', 'not', 'very', 'clear'),\n",
       " ('it', 'is', 'not', 'very', 'clear', 'for'),\n",
       " ('is', 'not', 'very', 'clear', 'for', 'computers'),\n",
       " ('not', 'very', 'clear', 'for', 'computers', 'to'),\n",
       " ('very', 'clear', 'for', 'computers', 'to', 'interpret'),\n",
       " ('clear', 'for', 'computers', 'to', 'interpret', 'such'),\n",
       " ('for', 'computers', 'to', 'interpret', 'such', '.'),\n",
       " ('computers', 'to', 'interpret', 'such', '.', 'In'),\n",
       " ('to', 'interpret', 'such', '.', 'In', 'natural'),\n",
       " ('interpret', 'such', '.', 'In', 'natural', 'language'),\n",
       " ('such', '.', 'In', 'natural', 'language', 'processing'),\n",
       " ('.', 'In', 'natural', 'language', 'processing', '('),\n",
       " ('In', 'natural', 'language', 'processing', '(', 'NLP'),\n",
       " ('natural', 'language', 'processing', '(', 'NLP', ')'),\n",
       " ('language', 'processing', '(', 'NLP', ')', ','),\n",
       " ('processing', '(', 'NLP', ')', ',', 'the'),\n",
       " ('(', 'NLP', ')', ',', 'the', 'goal'),\n",
       " ('NLP', ')', ',', 'the', 'goal', 'is'),\n",
       " (')', ',', 'the', 'goal', 'is', 'to'),\n",
       " (',', 'the', 'goal', 'is', 'to', 'make'),\n",
       " ('the', 'goal', 'is', 'to', 'make', 'computers'),\n",
       " ('goal', 'is', 'to', 'make', 'computers', 'understand'),\n",
       " ('is', 'to', 'make', 'computers', 'understand', 'the'),\n",
       " ('to', 'make', 'computers', 'understand', 'the', 'unstructured'),\n",
       " ('make', 'computers', 'understand', 'the', 'unstructured', 'text'),\n",
       " ('computers', 'understand', 'the', 'unstructured', 'text', 'and'),\n",
       " ('understand', 'the', 'unstructured', 'text', 'and', 'retrieve'),\n",
       " ('the', 'unstructured', 'text', 'and', 'retrieve', 'meaningful'),\n",
       " ('unstructured', 'text', 'and', 'retrieve', 'meaningful', 'pieces'),\n",
       " ('text', 'and', 'retrieve', 'meaningful', 'pieces', 'of'),\n",
       " ('and', 'retrieve', 'meaningful', 'pieces', 'of', 'information'),\n",
       " ('retrieve', 'meaningful', 'pieces', 'of', 'information', 'from'),\n",
       " ('meaningful', 'pieces', 'of', 'information', 'from', 'it'),\n",
       " ('pieces', 'of', 'information', 'from', 'it', '.'),\n",
       " ('of', 'information', 'from', 'it', '.', 'Natural'),\n",
       " ('information', 'from', 'it', '.', 'Natural', 'language'),\n",
       " ('from', 'it', '.', 'Natural', 'language', 'Processing'),\n",
       " ('it', '.', 'Natural', 'language', 'Processing', '('),\n",
       " ('.', 'Natural', 'language', 'Processing', '(', 'NLP'),\n",
       " ('Natural', 'language', 'Processing', '(', 'NLP', ')'),\n",
       " ('language', 'Processing', '(', 'NLP', ')', 'is'),\n",
       " ('Processing', '(', 'NLP', ')', 'is', 'a'),\n",
       " ('(', 'NLP', ')', 'is', 'a', 'subfield'),\n",
       " ('NLP', ')', 'is', 'a', 'subfield', 'of'),\n",
       " (')', 'is', 'a', 'subfield', 'of', 'artificial'),\n",
       " ('is', 'a', 'subfield', 'of', 'artificial', 'intelligence'),\n",
       " ('a', 'subfield', 'of', 'artificial', 'intelligence', ','),\n",
       " ('subfield', 'of', 'artificial', 'intelligence', ',', 'in'),\n",
       " ('of', 'artificial', 'intelligence', ',', 'in', 'which'),\n",
       " ('artificial', 'intelligence', ',', 'in', 'which', 'its'),\n",
       " ('intelligence', ',', 'in', 'which', 'its', 'depth'),\n",
       " (',', 'in', 'which', 'its', 'depth', 'involves'),\n",
       " ('in', 'which', 'its', 'depth', 'involves', 'the'),\n",
       " ('which', 'its', 'depth', 'involves', 'the', 'interactions'),\n",
       " ('its', 'depth', 'involves', 'the', 'interactions', 'between'),\n",
       " ('depth', 'involves', 'the', 'interactions', 'between', 'computers'),\n",
       " ('involves', 'the', 'interactions', 'between', 'computers', 'and'),\n",
       " ('the', 'interactions', 'between', 'computers', 'and', 'humans'),\n",
       " ('interactions', 'between', 'computers', 'and', 'humans', '.')]"
      ]
     },
     "execution_count": 29,
     "metadata": {},
     "output_type": "execute_result"
    }
   ],
   "source": [
    "S_ngrams6=list(nltk.ngrams(S_tokens,6))\n",
    "S_ngrams6"
   ]
  },
  {
   "cell_type": "markdown",
   "metadata": {},
   "source": [
    "# Stemming"
   ]
  },
  {
   "cell_type": "markdown",
   "metadata": {},
   "source": [
    "# Normalize word into its base form or root form"
   ]
  },
  {
   "cell_type": "code",
   "execution_count": 30,
   "metadata": {},
   "outputs": [],
   "source": [
    "from nltk.stem import PorterStemmer"
   ]
  },
  {
   "cell_type": "code",
   "execution_count": 31,
   "metadata": {},
   "outputs": [],
   "source": [
    "pst=PorterStemmer()"
   ]
  },
  {
   "cell_type": "code",
   "execution_count": 32,
   "metadata": {},
   "outputs": [
    {
     "data": {
      "text/plain": [
       "'have'"
      ]
     },
     "execution_count": 32,
     "metadata": {},
     "output_type": "execute_result"
    }
   ],
   "source": [
    "pst.stem('having')"
   ]
  },
  {
   "cell_type": "code",
   "execution_count": 33,
   "metadata": {},
   "outputs": [
    {
     "name": "stdout",
     "output_type": "stream",
     "text": [
      "have:have\n",
      "having:have\n",
      "give:give\n",
      "given:given\n"
     ]
    }
   ],
   "source": [
    "words_stem=['have','having','give','given']\n",
    "for words in words_stem:\n",
    "    print(words+\":\"+pst.stem(words))"
   ]
  },
  {
   "cell_type": "code",
   "execution_count": 34,
   "metadata": {},
   "outputs": [
    {
     "name": "stdout",
     "output_type": "stream",
     "text": [
      "have:hav\n",
      "having:hav\n",
      "give:giv\n",
      "given:giv\n"
     ]
    }
   ],
   "source": [
    "from nltk import LancasterStemmer\n",
    "lst=LancasterStemmer()\n",
    "for words in words_stem:\n",
    "    print(words+\":\"+lst.stem(words))"
   ]
  },
  {
   "cell_type": "markdown",
   "metadata": {},
   "source": [
    "# Lemmatization"
   ]
  },
  {
   "cell_type": "markdown",
   "metadata": {},
   "source": [
    "## Its a morphological analysis of the word"
   ]
  },
  {
   "cell_type": "markdown",
   "metadata": {},
   "source": [
    "## It group together different forms of a words called Lemma"
   ]
  },
  {
   "cell_type": "markdown",
   "metadata": {},
   "source": [
    "## Output of Lemmatisation is a proper word"
   ]
  },
  {
   "cell_type": "markdown",
   "metadata": {},
   "source": [
    "## example : it maps gone, going into go"
   ]
  },
  {
   "cell_type": "code",
   "execution_count": 35,
   "metadata": {},
   "outputs": [],
   "source": [
    "from nltk.stem import wordnet\n",
    "from nltk.stem import WordNetLemmatizer\n",
    "word_lem=WordNetLemmatizer()"
   ]
  },
  {
   "cell_type": "code",
   "execution_count": 36,
   "metadata": {},
   "outputs": [
    {
     "name": "stdout",
     "output_type": "stream",
     "text": [
      "have:have\n",
      "having:having\n",
      "give:give\n",
      "given:given\n"
     ]
    }
   ],
   "source": [
    "for words in words_stem:\n",
    "    print(words+\":\"+word_lem.lemmatize(words))"
   ]
  },
  {
   "cell_type": "raw",
   "metadata": {},
   "source": [
    "# Note : It kept the word as it is"
   ]
  },
  {
   "cell_type": "markdown",
   "metadata": {},
   "source": [
    "# Stopwords"
   ]
  },
  {
   "cell_type": "code",
   "execution_count": 37,
   "metadata": {},
   "outputs": [],
   "source": [
    "from nltk.corpus import stopwords"
   ]
  },
  {
   "cell_type": "code",
   "execution_count": 38,
   "metadata": {},
   "outputs": [
    {
     "data": {
      "text/plain": [
       "['i',\n",
       " 'me',\n",
       " 'my',\n",
       " 'myself',\n",
       " 'we',\n",
       " 'our',\n",
       " 'ours',\n",
       " 'ourselves',\n",
       " 'you',\n",
       " \"you're\",\n",
       " \"you've\",\n",
       " \"you'll\",\n",
       " \"you'd\",\n",
       " 'your',\n",
       " 'yours',\n",
       " 'yourself',\n",
       " 'yourselves',\n",
       " 'he',\n",
       " 'him',\n",
       " 'his',\n",
       " 'himself',\n",
       " 'she',\n",
       " \"she's\",\n",
       " 'her',\n",
       " 'hers',\n",
       " 'herself',\n",
       " 'it',\n",
       " \"it's\",\n",
       " 'its',\n",
       " 'itself',\n",
       " 'they',\n",
       " 'them',\n",
       " 'their',\n",
       " 'theirs',\n",
       " 'themselves',\n",
       " 'what',\n",
       " 'which',\n",
       " 'who',\n",
       " 'whom',\n",
       " 'this',\n",
       " 'that',\n",
       " \"that'll\",\n",
       " 'these',\n",
       " 'those',\n",
       " 'am',\n",
       " 'is',\n",
       " 'are',\n",
       " 'was',\n",
       " 'were',\n",
       " 'be',\n",
       " 'been',\n",
       " 'being',\n",
       " 'have',\n",
       " 'has',\n",
       " 'had',\n",
       " 'having',\n",
       " 'do',\n",
       " 'does',\n",
       " 'did',\n",
       " 'doing',\n",
       " 'a',\n",
       " 'an',\n",
       " 'the',\n",
       " 'and',\n",
       " 'but',\n",
       " 'if',\n",
       " 'or',\n",
       " 'because',\n",
       " 'as',\n",
       " 'until',\n",
       " 'while',\n",
       " 'of',\n",
       " 'at',\n",
       " 'by',\n",
       " 'for',\n",
       " 'with',\n",
       " 'about',\n",
       " 'against',\n",
       " 'between',\n",
       " 'into',\n",
       " 'through',\n",
       " 'during',\n",
       " 'before',\n",
       " 'after',\n",
       " 'above',\n",
       " 'below',\n",
       " 'to',\n",
       " 'from',\n",
       " 'up',\n",
       " 'down',\n",
       " 'in',\n",
       " 'out',\n",
       " 'on',\n",
       " 'off',\n",
       " 'over',\n",
       " 'under',\n",
       " 'again',\n",
       " 'further',\n",
       " 'then',\n",
       " 'once',\n",
       " 'here',\n",
       " 'there',\n",
       " 'when',\n",
       " 'where',\n",
       " 'why',\n",
       " 'how',\n",
       " 'all',\n",
       " 'any',\n",
       " 'both',\n",
       " 'each',\n",
       " 'few',\n",
       " 'more',\n",
       " 'most',\n",
       " 'other',\n",
       " 'some',\n",
       " 'such',\n",
       " 'no',\n",
       " 'nor',\n",
       " 'not',\n",
       " 'only',\n",
       " 'own',\n",
       " 'same',\n",
       " 'so',\n",
       " 'than',\n",
       " 'too',\n",
       " 'very',\n",
       " 's',\n",
       " 't',\n",
       " 'can',\n",
       " 'will',\n",
       " 'just',\n",
       " 'don',\n",
       " \"don't\",\n",
       " 'should',\n",
       " \"should've\",\n",
       " 'now',\n",
       " 'd',\n",
       " 'll',\n",
       " 'm',\n",
       " 'o',\n",
       " 're',\n",
       " 've',\n",
       " 'y',\n",
       " 'ain',\n",
       " 'aren',\n",
       " \"aren't\",\n",
       " 'couldn',\n",
       " \"couldn't\",\n",
       " 'didn',\n",
       " \"didn't\",\n",
       " 'doesn',\n",
       " \"doesn't\",\n",
       " 'hadn',\n",
       " \"hadn't\",\n",
       " 'hasn',\n",
       " \"hasn't\",\n",
       " 'haven',\n",
       " \"haven't\",\n",
       " 'isn',\n",
       " \"isn't\",\n",
       " 'ma',\n",
       " 'mightn',\n",
       " \"mightn't\",\n",
       " 'mustn',\n",
       " \"mustn't\",\n",
       " 'needn',\n",
       " \"needn't\",\n",
       " 'shan',\n",
       " \"shan't\",\n",
       " 'shouldn',\n",
       " \"shouldn't\",\n",
       " 'wasn',\n",
       " \"wasn't\",\n",
       " 'weren',\n",
       " \"weren't\",\n",
       " 'won',\n",
       " \"won't\",\n",
       " 'wouldn',\n",
       " \"wouldn't\"]"
      ]
     },
     "execution_count": 38,
     "metadata": {},
     "output_type": "execute_result"
    }
   ],
   "source": [
    "stopwords.words(\"english\")"
   ]
  },
  {
   "cell_type": "code",
   "execution_count": 39,
   "metadata": {},
   "outputs": [
    {
     "data": {
      "text/plain": [
       "232"
      ]
     },
     "execution_count": 39,
     "metadata": {},
     "output_type": "execute_result"
    }
   ],
   "source": [
    "len(stopwords.words(\"german\"))"
   ]
  },
  {
   "cell_type": "code",
   "execution_count": 40,
   "metadata": {},
   "outputs": [
    {
     "data": {
      "text/plain": [
       "313"
      ]
     },
     "execution_count": 40,
     "metadata": {},
     "output_type": "execute_result"
    }
   ],
   "source": [
    "len(stopwords.words(\"spanish\"))"
   ]
  },
  {
   "cell_type": "code",
   "execution_count": 41,
   "metadata": {},
   "outputs": [
    {
     "data": {
      "text/plain": [
       "157"
      ]
     },
     "execution_count": 41,
     "metadata": {},
     "output_type": "execute_result"
    }
   ],
   "source": [
    "len(stopwords.words(\"french\"))"
   ]
  },
  {
   "cell_type": "code",
   "execution_count": 42,
   "metadata": {},
   "outputs": [
    {
     "data": {
      "text/plain": [
       "179"
      ]
     },
     "execution_count": 42,
     "metadata": {},
     "output_type": "execute_result"
    }
   ],
   "source": [
    "len(stopwords.words(\"english\"))"
   ]
  },
  {
   "cell_type": "markdown",
   "metadata": {},
   "source": [
    "# Now we will see how to remove stopwords:"
   ]
  },
  {
   "cell_type": "code",
   "execution_count": 57,
   "metadata": {},
   "outputs": [],
   "source": [
    "import re\n",
    "punctuation=re.compile(r'[-.?,!:;()|0-9]')"
   ]
  },
  {
   "cell_type": "code",
   "execution_count": 58,
   "metadata": {},
   "outputs": [],
   "source": [
    "post_punctuation=[]\n",
    "for words in S_tokens:\n",
    "    word=punctuation.sub(\"\",words)\n",
    "    if len(word)>0:\n",
    "        post_punctuation.append(word)"
   ]
  },
  {
   "cell_type": "code",
   "execution_count": 59,
   "metadata": {},
   "outputs": [
    {
     "data": {
      "text/plain": [
       "['Computers',\n",
       " 'and',\n",
       " 'machines',\n",
       " 'are',\n",
       " 'great',\n",
       " 'at',\n",
       " 'working',\n",
       " 'with',\n",
       " 'tabular',\n",
       " 'data',\n",
       " 'or',\n",
       " 'spreadsheets',\n",
       " 'However',\n",
       " 'as',\n",
       " 'human',\n",
       " 'beings',\n",
       " 'generally',\n",
       " 'communicate',\n",
       " 'in',\n",
       " 'words',\n",
       " 'and',\n",
       " 'sentences',\n",
       " 'not',\n",
       " 'in',\n",
       " 'the',\n",
       " 'form',\n",
       " 'of',\n",
       " 'tables',\n",
       " 'Much',\n",
       " 'information',\n",
       " 'that',\n",
       " 'humans',\n",
       " 'speak',\n",
       " 'or',\n",
       " 'write',\n",
       " 'is',\n",
       " 'unstructured',\n",
       " 'So',\n",
       " 'it',\n",
       " 'is',\n",
       " 'not',\n",
       " 'very',\n",
       " 'clear',\n",
       " 'for',\n",
       " 'computers',\n",
       " 'to',\n",
       " 'interpret',\n",
       " 'such',\n",
       " 'In',\n",
       " 'natural',\n",
       " 'language',\n",
       " 'processing',\n",
       " 'NLP',\n",
       " 'the',\n",
       " 'goal',\n",
       " 'is',\n",
       " 'to',\n",
       " 'make',\n",
       " 'computers',\n",
       " 'understand',\n",
       " 'the',\n",
       " 'unstructured',\n",
       " 'text',\n",
       " 'and',\n",
       " 'retrieve',\n",
       " 'meaningful',\n",
       " 'pieces',\n",
       " 'of',\n",
       " 'information',\n",
       " 'from',\n",
       " 'it',\n",
       " 'Natural',\n",
       " 'language',\n",
       " 'Processing',\n",
       " 'NLP',\n",
       " 'is',\n",
       " 'a',\n",
       " 'subfield',\n",
       " 'of',\n",
       " 'artificial',\n",
       " 'intelligence',\n",
       " 'in',\n",
       " 'which',\n",
       " 'its',\n",
       " 'depth',\n",
       " 'involves',\n",
       " 'the',\n",
       " 'interactions',\n",
       " 'between',\n",
       " 'computers',\n",
       " 'and',\n",
       " 'humans']"
      ]
     },
     "execution_count": 59,
     "metadata": {},
     "output_type": "execute_result"
    }
   ],
   "source": [
    "post_punctuation # there are no stopwords here in particular output"
   ]
  },
  {
   "cell_type": "code",
   "execution_count": 60,
   "metadata": {},
   "outputs": [
    {
     "data": {
      "text/plain": [
       "92"
      ]
     },
     "execution_count": 60,
     "metadata": {},
     "output_type": "execute_result"
    }
   ],
   "source": [
    "len(post_punctuation)"
   ]
  },
  {
   "cell_type": "code",
   "execution_count": 61,
   "metadata": {},
   "outputs": [
    {
     "data": {
      "text/plain": [
       "106"
      ]
     },
     "execution_count": 61,
     "metadata": {},
     "output_type": "execute_result"
    }
   ],
   "source": [
    "len(S_tokens)"
   ]
  },
  {
   "cell_type": "code",
   "execution_count": 62,
   "metadata": {},
   "outputs": [],
   "source": [
    "post_punctuation=[]\n",
    "for words in Paragraph_token:\n",
    "    word=punctuation.sub(\"\",words)\n",
    "    if len(word)>0:\n",
    "        post_punctuation.append(word)"
   ]
  },
  {
   "cell_type": "code",
   "execution_count": 63,
   "metadata": {},
   "outputs": [
    {
     "data": {
      "text/plain": [
       "51"
      ]
     },
     "execution_count": 63,
     "metadata": {},
     "output_type": "execute_result"
    }
   ],
   "source": [
    "len(Paragraph_token)"
   ]
  },
  {
   "cell_type": "code",
   "execution_count": 64,
   "metadata": {},
   "outputs": [
    {
     "data": {
      "text/plain": [
       "47"
      ]
     },
     "execution_count": 64,
     "metadata": {},
     "output_type": "execute_result"
    }
   ],
   "source": [
    "len(post_punctuation)"
   ]
  },
  {
   "cell_type": "markdown",
   "metadata": {},
   "source": [
    "# Parts of speech(POS):"
   ]
  },
  {
   "cell_type": "markdown",
   "metadata": {},
   "source": [
    "# Will see How POS Tags works in text mining:"
   ]
  },
  {
   "cell_type": "code",
   "execution_count": 65,
   "metadata": {},
   "outputs": [],
   "source": [
    "s=\"Shubhangi is natural when it comes to dancing\""
   ]
  },
  {
   "cell_type": "code",
   "execution_count": 67,
   "metadata": {},
   "outputs": [],
   "source": [
    "s_t=word_tokenize(s)"
   ]
  },
  {
   "cell_type": "code",
   "execution_count": 68,
   "metadata": {},
   "outputs": [
    {
     "data": {
      "text/plain": [
       "['Shubhangi', 'is', 'natural', 'when', 'it', 'comes', 'to', 'dancing']"
      ]
     },
     "execution_count": 68,
     "metadata": {},
     "output_type": "execute_result"
    }
   ],
   "source": [
    "s_t"
   ]
  },
  {
   "cell_type": "markdown",
   "metadata": {},
   "source": [
    "#### So this is how defines postags"
   ]
  },
  {
   "cell_type": "code",
   "execution_count": 70,
   "metadata": {},
   "outputs": [
    {
     "name": "stdout",
     "output_type": "stream",
     "text": [
      "[('Shubhangi', 'NN')]\n",
      "[('is', 'VBZ')]\n",
      "[('natural', 'JJ')]\n",
      "[('when', 'WRB')]\n",
      "[('it', 'PRP')]\n",
      "[('comes', 'VBZ')]\n",
      "[('to', 'TO')]\n",
      "[('dancing', 'VBG')]\n"
     ]
    }
   ],
   "source": [
    "for token in s_t:\n",
    "    print(nltk.pos_tag([token]))"
   ]
  },
  {
   "cell_type": "markdown",
   "metadata": {},
   "source": [
    "# What are NAME ENTITY RECOGNITION?"
   ]
  },
  {
   "cell_type": "code",
   "execution_count": 73,
   "metadata": {},
   "outputs": [
    {
     "data": {
      "text/plain": [
       "' Movie \\nPerson\\nlocation\\nmonitory value\\nOrganization\\nQuantities '"
      ]
     },
     "execution_count": 73,
     "metadata": {},
     "output_type": "execute_result"
    }
   ],
   "source": [
    "\"\"\" Movie \n",
    "Person\n",
    "location\n",
    "monitory value\n",
    "Organization\n",
    "Quantities \"\"\""
   ]
  },
  {
   "cell_type": "code",
   "execution_count": 74,
   "metadata": {},
   "outputs": [],
   "source": [
    "from nltk import ne_chunk"
   ]
  },
  {
   "cell_type": "code",
   "execution_count": 75,
   "metadata": {},
   "outputs": [],
   "source": [
    "Sentence=\"The US President stays in White house\""
   ]
  },
  {
   "cell_type": "code",
   "execution_count": 76,
   "metadata": {},
   "outputs": [],
   "source": [
    "Se_token=word_tokenize(Sentence)"
   ]
  },
  {
   "cell_type": "code",
   "execution_count": 77,
   "metadata": {},
   "outputs": [],
   "source": [
    "Se_tag=nltk.pos_tag(Se_token)"
   ]
  },
  {
   "cell_type": "code",
   "execution_count": 78,
   "metadata": {},
   "outputs": [],
   "source": [
    "Se_ER=ne_chunk(Se_tag)"
   ]
  },
  {
   "cell_type": "code",
   "execution_count": 80,
   "metadata": {},
   "outputs": [
    {
     "name": "stdout",
     "output_type": "stream",
     "text": [
      "(S\n",
      "  The/DT\n",
      "  (ORGANIZATION US/NNP)\n",
      "  President/NNP\n",
      "  stays/VBZ\n",
      "  in/IN\n",
      "  (FACILITY White/NNP)\n",
      "  house/NN)\n"
     ]
    }
   ],
   "source": [
    "print(Se_ER)"
   ]
  },
  {
   "attachments": {
    "image.png": {
     "image/png": "[encoded data removed]"
    }
   },
   "cell_type": "markdown",
   "metadata": {},
   "source": [
    "![image.png](attachment:image.png)"
   ]
  },
  {
   "cell_type": "code",
   "execution_count": 81,
   "metadata": {},
   "outputs": [],
   "source": [
    "n=\"the big cat ate the little mouse who was after fresh cheese\""
   ]
  },
  {
   "cell_type": "code",
   "execution_count": 82,
   "metadata": {},
   "outputs": [],
   "source": [
    "n_tokens=nltk.pos_tag(word_tokenize(n))"
   ]
  },
  {
   "cell_type": "code",
   "execution_count": 83,
   "metadata": {},
   "outputs": [
    {
     "data": {
      "text/plain": [
       "[('the', 'DT'),\n",
       " ('big', 'JJ'),\n",
       " ('cat', 'NN'),\n",
       " ('ate', 'VBD'),\n",
       " ('the', 'DT'),\n",
       " ('little', 'JJ'),\n",
       " ('mouse', 'NN'),\n",
       " ('who', 'WP'),\n",
       " ('was', 'VBD'),\n",
       " ('after', 'IN'),\n",
       " ('fresh', 'JJ'),\n",
       " ('cheese', 'NN')]"
      ]
     },
     "execution_count": 83,
     "metadata": {},
     "output_type": "execute_result"
    }
   ],
   "source": [
    "n_tokens"
   ]
  },
  {
   "cell_type": "code",
   "execution_count": 85,
   "metadata": {},
   "outputs": [],
   "source": [
    "grammar=r'NP:{<DT>?<JJ>*<NN>}'"
   ]
  },
  {
   "cell_type": "code",
   "execution_count": 87,
   "metadata": {},
   "outputs": [
    {
     "name": "stderr",
     "output_type": "stream",
     "text": [
      "The Ghostscript executable isn't found.\n",
      "See http://web.mit.edu/ghostscript/www/Install.htm\n",
      "If you're using a Mac, you can try installing\n",
      "https://docs.brew.sh/Installation then `brew install ghostscript`\n"
     ]
    },
    {
     "ename": "LookupError",
     "evalue": "",
     "output_type": "error",
     "traceback": [
      "\u001b[1;31m---------------------------------------------------------------------------\u001b[0m",
      "\u001b[1;31mLookupError\u001b[0m                               Traceback (most recent call last)",
      "\u001b[1;32mC:\\ProgramData\\Anaconda3\\lib\\site-packages\\nltk\\tree.py\u001b[0m in \u001b[0;36m_repr_png_\u001b[1;34m(self)\u001b[0m\n\u001b[0;32m    797\u001b[0m                     [\n\u001b[1;32m--> 798\u001b[1;33m                         find_binary(\n\u001b[0m\u001b[0;32m    799\u001b[0m                             \u001b[1;34m\"gs\"\u001b[0m\u001b[1;33m,\u001b[0m\u001b[1;33m\u001b[0m\u001b[1;33m\u001b[0m\u001b[0m\n",
      "\u001b[1;32mC:\\ProgramData\\Anaconda3\\lib\\site-packages\\nltk\\internals.py\u001b[0m in \u001b[0;36mfind_binary\u001b[1;34m(name, path_to_bin, env_vars, searchpath, binary_names, url, verbose)\u001b[0m\n\u001b[0;32m    687\u001b[0m ):\n\u001b[1;32m--> 688\u001b[1;33m     return next(\n\u001b[0m\u001b[0;32m    689\u001b[0m         find_binary_iter(\n",
      "\u001b[1;32mC:\\ProgramData\\Anaconda3\\lib\\site-packages\\nltk\\internals.py\u001b[0m in \u001b[0;36mfind_binary_iter\u001b[1;34m(name, path_to_bin, env_vars, searchpath, binary_names, url, verbose)\u001b[0m\n\u001b[0;32m    672\u001b[0m     \"\"\"\n\u001b[1;32m--> 673\u001b[1;33m     for file in find_file_iter(\n\u001b[0m\u001b[0;32m    674\u001b[0m         \u001b[0mpath_to_bin\u001b[0m \u001b[1;32mor\u001b[0m \u001b[0mname\u001b[0m\u001b[1;33m,\u001b[0m \u001b[0menv_vars\u001b[0m\u001b[1;33m,\u001b[0m \u001b[0msearchpath\u001b[0m\u001b[1;33m,\u001b[0m \u001b[0mbinary_names\u001b[0m\u001b[1;33m,\u001b[0m \u001b[0murl\u001b[0m\u001b[1;33m,\u001b[0m \u001b[0mverbose\u001b[0m\u001b[1;33m\u001b[0m\u001b[1;33m\u001b[0m\u001b[0m\n",
      "\u001b[1;32mC:\\ProgramData\\Anaconda3\\lib\\site-packages\\nltk\\internals.py\u001b[0m in \u001b[0;36mfind_file_iter\u001b[1;34m(filename, env_vars, searchpath, file_names, url, verbose, finding_dir)\u001b[0m\n\u001b[0;32m    631\u001b[0m         \u001b[0mdiv\u001b[0m \u001b[1;33m=\u001b[0m \u001b[1;34m\"=\"\u001b[0m \u001b[1;33m*\u001b[0m \u001b[1;36m75\u001b[0m\u001b[1;33m\u001b[0m\u001b[1;33m\u001b[0m\u001b[0m\n\u001b[1;32m--> 632\u001b[1;33m         \u001b[1;32mraise\u001b[0m \u001b[0mLookupError\u001b[0m\u001b[1;33m(\u001b[0m\u001b[1;34m\"\\n\\n%s\\n%s\\n%s\"\u001b[0m \u001b[1;33m%\u001b[0m \u001b[1;33m(\u001b[0m\u001b[0mdiv\u001b[0m\u001b[1;33m,\u001b[0m \u001b[0mmsg\u001b[0m\u001b[1;33m,\u001b[0m \u001b[0mdiv\u001b[0m\u001b[1;33m)\u001b[0m\u001b[1;33m)\u001b[0m\u001b[1;33m\u001b[0m\u001b[1;33m\u001b[0m\u001b[0m\n\u001b[0m\u001b[0;32m    633\u001b[0m \u001b[1;33m\u001b[0m\u001b[0m\n",
      "\u001b[1;31mLookupError\u001b[0m: \n\n===========================================================================\nNLTK was unable to find the gs file!\nUse software specific configuration paramaters or set the PATH environment variable.\n===========================================================================",
      "\nDuring handling of the above exception, another exception occurred:\n",
      "\u001b[1;31mLookupError\u001b[0m                               Traceback (most recent call last)",
      "\u001b[1;32mC:\\ProgramData\\Anaconda3\\lib\\site-packages\\IPython\\core\\formatters.py\u001b[0m in \u001b[0;36m__call__\u001b[1;34m(self, obj)\u001b[0m\n\u001b[0;32m    343\u001b[0m             \u001b[0mmethod\u001b[0m \u001b[1;33m=\u001b[0m \u001b[0mget_real_method\u001b[0m\u001b[1;33m(\u001b[0m\u001b[0mobj\u001b[0m\u001b[1;33m,\u001b[0m \u001b[0mself\u001b[0m\u001b[1;33m.\u001b[0m\u001b[0mprint_method\u001b[0m\u001b[1;33m)\u001b[0m\u001b[1;33m\u001b[0m\u001b[1;33m\u001b[0m\u001b[0m\n\u001b[0;32m    344\u001b[0m             \u001b[1;32mif\u001b[0m \u001b[0mmethod\u001b[0m \u001b[1;32mis\u001b[0m \u001b[1;32mnot\u001b[0m \u001b[1;32mNone\u001b[0m\u001b[1;33m:\u001b[0m\u001b[1;33m\u001b[0m\u001b[1;33m\u001b[0m\u001b[0m\n\u001b[1;32m--> 345\u001b[1;33m                 \u001b[1;32mreturn\u001b[0m \u001b[0mmethod\u001b[0m\u001b[1;33m(\u001b[0m\u001b[1;33m)\u001b[0m\u001b[1;33m\u001b[0m\u001b[1;33m\u001b[0m\u001b[0m\n\u001b[0m\u001b[0;32m    346\u001b[0m             \u001b[1;32mreturn\u001b[0m \u001b[1;32mNone\u001b[0m\u001b[1;33m\u001b[0m\u001b[1;33m\u001b[0m\u001b[0m\n\u001b[0;32m    347\u001b[0m         \u001b[1;32melse\u001b[0m\u001b[1;33m:\u001b[0m\u001b[1;33m\u001b[0m\u001b[1;33m\u001b[0m\u001b[0m\n",
      "\u001b[1;32mC:\\ProgramData\\Anaconda3\\lib\\site-packages\\nltk\\tree.py\u001b[0m in \u001b[0;36m_repr_png_\u001b[1;34m(self)\u001b[0m\n\u001b[0;32m    815\u001b[0m                 )\n\u001b[0;32m    816\u001b[0m                 \u001b[0mprint\u001b[0m\u001b[1;33m(\u001b[0m\u001b[0mpre_error_message\u001b[0m\u001b[1;33m,\u001b[0m \u001b[0mfile\u001b[0m\u001b[1;33m=\u001b[0m\u001b[0msys\u001b[0m\u001b[1;33m.\u001b[0m\u001b[0mstderr\u001b[0m\u001b[1;33m)\u001b[0m\u001b[1;33m\u001b[0m\u001b[1;33m\u001b[0m\u001b[0m\n\u001b[1;32m--> 817\u001b[1;33m                 \u001b[1;32mraise\u001b[0m \u001b[0mLookupError\u001b[0m\u001b[1;33m\u001b[0m\u001b[1;33m\u001b[0m\u001b[0m\n\u001b[0m\u001b[0;32m    818\u001b[0m \u001b[1;33m\u001b[0m\u001b[0m\n\u001b[0;32m    819\u001b[0m             \u001b[1;32mwith\u001b[0m \u001b[0mopen\u001b[0m\u001b[1;33m(\u001b[0m\u001b[0mout_path\u001b[0m\u001b[1;33m,\u001b[0m \u001b[1;34m\"rb\"\u001b[0m\u001b[1;33m)\u001b[0m \u001b[1;32mas\u001b[0m \u001b[0msr\u001b[0m\u001b[1;33m:\u001b[0m\u001b[1;33m\u001b[0m\u001b[1;33m\u001b[0m\u001b[0m\n",
      "\u001b[1;31mLookupError\u001b[0m: "
     ]
    },
    {
     "data": {
      "text/plain": [
       "Tree('S', [Tree('NP', [('the', 'DT'), ('big', 'JJ'), ('cat', 'NN')]), ('ate', 'VBD'), Tree('NP', [('the', 'DT'), ('little', 'JJ'), ('mouse', 'NN')]), ('who', 'WP'), ('was', 'VBD'), ('after', 'IN'), Tree('NP', [('fresh', 'JJ'), ('cheese', 'NN')])])"
      ]
     },
     "execution_count": 87,
     "metadata": {},
     "output_type": "execute_result"
    }
   ],
   "source": [
    "chunk_parser=nltk.RegexpParser(grammar)\n",
    "chunk_result=chunk_parser.parse(n_tokens)\n",
    "chunk_result"
   ]
  },
  {
   "cell_type": "code",
   "execution_count": 88,
   "metadata": {},
   "outputs": [],
   "source": [
    "#we have got this error because we do form a syntactical tree"
   ]
  },
  {
   "cell_type": "raw",
   "metadata": {},
   "source": [
    "Now we have learnt almost all the steps in  text processing \n",
    "and lets apply them all in building a machine learning classifier on the movie reviews from the nltk corpora"
   ]
  },
  {
   "cell_type": "code",
   "execution_count": 89,
   "metadata": {},
   "outputs": [],
   "source": [
    "import pandas as pd \n",
    "import  numpy as np"
   ]
  },
  {
   "cell_type": "code",
   "execution_count": 90,
   "metadata": {},
   "outputs": [],
   "source": [
    "from sklearn.feature_extraction.text import CountVectorizer"
   ]
  },
  {
   "cell_type": "code",
   "execution_count": 91,
   "metadata": {},
   "outputs": [
    {
     "name": "stdout",
     "output_type": "stream",
     "text": [
      "['abc', 'abc.zip', 'alpino', 'alpino.zip', 'biocreative_ppi', 'biocreative_ppi.zip', 'brown', 'brown.zip', 'brown_tei', 'brown_tei.zip', 'cess_cat', 'cess_cat.zip', 'cess_esp', 'cess_esp.zip', 'chat80', 'chat80.zip', 'city_database', 'city_database.zip', 'cmudict', 'cmudict.zip', 'comparative_sentences', 'comparative_sentences.zip', 'comtrans.zip', 'conll2000', 'conll2000.zip', 'conll2002', 'conll2002.zip', 'conll2007.zip', 'crubadan', 'crubadan.zip', 'dependency_treebank', 'dependency_treebank.zip', 'dolch', 'dolch.zip', 'europarl_raw', 'europarl_raw.zip', 'floresta', 'floresta.zip', 'framenet_v15', 'framenet_v15.zip', 'framenet_v17', 'framenet_v17.zip', 'gazetteers', 'gazetteers.zip', 'genesis', 'genesis.zip', 'gutenberg', 'gutenberg.zip', 'ieer', 'ieer.zip', 'inaugural', 'inaugural.zip', 'indian', 'indian.zip', 'jeita.zip', 'kimmo', 'kimmo.zip', 'knbc.zip', 'lin_thesaurus', 'lin_thesaurus.zip', 'machado.zip', 'mac_morpho', 'mac_morpho.zip', 'masc_tagged.zip', 'movie_reviews', 'movie_reviews.zip', 'mte_teip5', 'mte_teip5.zip', 'names', 'names.zip', 'nombank.1.0.zip', 'nonbreaking_prefixes', 'nonbreaking_prefixes.zip', 'nps_chat', 'nps_chat.zip', 'omw', 'omw.zip', 'opinion_lexicon', 'opinion_lexicon.zip', 'panlex_swadesh.zip', 'paradigms', 'paradigms.zip', 'pil', 'pil.zip', 'pl196x', 'pl196x.zip', 'ppattach', 'ppattach.zip', 'problem_reports', 'problem_reports.zip', 'product_reviews_1', 'product_reviews_1.zip', 'product_reviews_2', 'product_reviews_2.zip', 'propbank.zip', 'pros_cons', 'pros_cons.zip', 'ptb', 'ptb.zip', 'qc', 'qc.zip', 'reuters.zip', 'rte', 'rte.zip', 'semcor.zip', 'senseval', 'senseval.zip', 'sentence_polarity', 'sentence_polarity.zip', 'sentiwordnet', 'sentiwordnet.zip', 'shakespeare', 'shakespeare.zip', 'sinica_treebank', 'sinica_treebank.zip', 'smultron', 'smultron.zip', 'state_union', 'state_union.zip', 'stopwords', 'stopwords.zip', 'subjectivity', 'subjectivity.zip', 'swadesh', 'swadesh.zip', 'switchboard', 'switchboard.zip', 'timit', 'timit.zip', 'toolbox', 'toolbox.zip', 'treebank', 'treebank.zip', 'twitter_samples', 'twitter_samples.zip', 'udhr', 'udhr.zip', 'udhr2', 'udhr2.zip', 'unicode_samples', 'unicode_samples.zip', 'universal_treebanks_v20.zip', 'verbnet', 'verbnet.zip', 'verbnet3', 'verbnet3.zip', 'webtext', 'webtext.zip', 'wordnet', 'wordnet.zip', 'wordnet_ic', 'wordnet_ic.zip', 'words', 'words.zip', 'ycoe', 'ycoe.zip']\n"
     ]
    }
   ],
   "source": [
    "print(os.listdir(nltk.find(\"corpora\")))"
   ]
  },
  {
   "cell_type": "code",
   "execution_count": 92,
   "metadata": {},
   "outputs": [],
   "source": [
    "from nltk.corpus import movie_reviews"
   ]
  },
  {
   "cell_type": "code",
   "execution_count": 95,
   "metadata": {},
   "outputs": [
    {
     "name": "stdout",
     "output_type": "stream",
     "text": [
      "['neg', 'pos']\n"
     ]
    }
   ],
   "source": [
    "print(movie_reviews.categories())"
   ]
  },
  {
   "cell_type": "code",
   "execution_count": 99,
   "metadata": {},
   "outputs": [
    {
     "name": "stdout",
     "output_type": "stream",
     "text": [
      "1000\n"
     ]
    }
   ],
   "source": [
    "print(len(movie_reviews.fileids('pos')))"
   ]
  },
  {
   "cell_type": "code",
   "execution_count": 100,
   "metadata": {},
   "outputs": [
    {
     "name": "stdout",
     "output_type": "stream",
     "text": [
      "1000\n"
     ]
    }
   ],
   "source": [
    "print(len(movie_reviews.fileids('neg')))"
   ]
  },
  {
   "cell_type": "code",
   "execution_count": null,
   "metadata": {},
   "outputs": [],
   "source": []
  }
 ],
 "metadata": {
  "kernelspec": {
   "display_name": "Python 3",
   "language": "python",
   "name": "python3"
  },
  "language_info": {
   "codemirror_mode": {
    "name": "ipython",
    "version": 3
   },
   "file_extension": ".py",
   "mimetype": "text/x-python",
   "name": "python",
   "nbconvert_exporter": "python",
   "pygments_lexer": "ipython3",
   "version": "3.8.3"
  }
 },
 "nbformat": 4,
 "nbformat_minor": 4
}
